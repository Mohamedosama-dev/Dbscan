{
  "nbformat": 4,
  "nbformat_minor": 0,
  "metadata": {
    "colab": {
      "provenance": []
    },
    "kernelspec": {
      "name": "python3",
      "display_name": "Python 3"
    },
    "language_info": {
      "name": "python"
    }
  },
  "cells": [
    {
      "cell_type": "code",
      "execution_count": 39,
      "metadata": {
        "id": "KgAYdFPnAqJj"
      },
      "outputs": [],
      "source": [
        "import numpy as np\n",
        "import matplotlib.pyplot as plt\n",
        "from sklearn.datasets import load_iris\n",
        "from sklearn.metrics import adjusted_rand_score\n",
        "import pandas as pd\n",
        "from sklearn.model_selection import train_test_split"
      ]
    },
    {
      "cell_type": "code",
      "source": [
        "# load the Pima Indians Diabetes dataset\n",
        "data = pd.read_csv('/content/IRIS.csv')\n",
        "data.head()"
      ],
      "metadata": {
        "colab": {
          "base_uri": "https://localhost:8080/",
          "height": 206
        },
        "id": "OKL-ohyCm7Vr",
        "outputId": "e1e9c9cc-a359-41ea-81e8-992cbe367462"
      },
      "execution_count": 40,
      "outputs": [
        {
          "output_type": "execute_result",
          "data": {
            "text/plain": [
              "   sepal_length  sepal_width  petal_length  petal_width      species\n",
              "0           5.1          3.5           1.4          0.2  Iris-setosa\n",
              "1           4.9          3.0           1.4          0.2  Iris-setosa\n",
              "2           4.7          3.2           1.3          0.2  Iris-setosa\n",
              "3           4.6          3.1           1.5          0.2  Iris-setosa\n",
              "4           5.0          3.6           1.4          0.2  Iris-setosa"
            ],
            "text/html": [
              "\n",
              "  <div id=\"df-b19409b8-7a6a-4e3b-8de2-1f6be4a18606\">\n",
              "    <div class=\"colab-df-container\">\n",
              "      <div>\n",
              "<style scoped>\n",
              "    .dataframe tbody tr th:only-of-type {\n",
              "        vertical-align: middle;\n",
              "    }\n",
              "\n",
              "    .dataframe tbody tr th {\n",
              "        vertical-align: top;\n",
              "    }\n",
              "\n",
              "    .dataframe thead th {\n",
              "        text-align: right;\n",
              "    }\n",
              "</style>\n",
              "<table border=\"1\" class=\"dataframe\">\n",
              "  <thead>\n",
              "    <tr style=\"text-align: right;\">\n",
              "      <th></th>\n",
              "      <th>sepal_length</th>\n",
              "      <th>sepal_width</th>\n",
              "      <th>petal_length</th>\n",
              "      <th>petal_width</th>\n",
              "      <th>species</th>\n",
              "    </tr>\n",
              "  </thead>\n",
              "  <tbody>\n",
              "    <tr>\n",
              "      <th>0</th>\n",
              "      <td>5.1</td>\n",
              "      <td>3.5</td>\n",
              "      <td>1.4</td>\n",
              "      <td>0.2</td>\n",
              "      <td>Iris-setosa</td>\n",
              "    </tr>\n",
              "    <tr>\n",
              "      <th>1</th>\n",
              "      <td>4.9</td>\n",
              "      <td>3.0</td>\n",
              "      <td>1.4</td>\n",
              "      <td>0.2</td>\n",
              "      <td>Iris-setosa</td>\n",
              "    </tr>\n",
              "    <tr>\n",
              "      <th>2</th>\n",
              "      <td>4.7</td>\n",
              "      <td>3.2</td>\n",
              "      <td>1.3</td>\n",
              "      <td>0.2</td>\n",
              "      <td>Iris-setosa</td>\n",
              "    </tr>\n",
              "    <tr>\n",
              "      <th>3</th>\n",
              "      <td>4.6</td>\n",
              "      <td>3.1</td>\n",
              "      <td>1.5</td>\n",
              "      <td>0.2</td>\n",
              "      <td>Iris-setosa</td>\n",
              "    </tr>\n",
              "    <tr>\n",
              "      <th>4</th>\n",
              "      <td>5.0</td>\n",
              "      <td>3.6</td>\n",
              "      <td>1.4</td>\n",
              "      <td>0.2</td>\n",
              "      <td>Iris-setosa</td>\n",
              "    </tr>\n",
              "  </tbody>\n",
              "</table>\n",
              "</div>\n",
              "      <button class=\"colab-df-convert\" onclick=\"convertToInteractive('df-b19409b8-7a6a-4e3b-8de2-1f6be4a18606')\"\n",
              "              title=\"Convert this dataframe to an interactive table.\"\n",
              "              style=\"display:none;\">\n",
              "        \n",
              "  <svg xmlns=\"http://www.w3.org/2000/svg\" height=\"24px\"viewBox=\"0 0 24 24\"\n",
              "       width=\"24px\">\n",
              "    <path d=\"M0 0h24v24H0V0z\" fill=\"none\"/>\n",
              "    <path d=\"M18.56 5.44l.94 2.06.94-2.06 2.06-.94-2.06-.94-.94-2.06-.94 2.06-2.06.94zm-11 1L8.5 8.5l.94-2.06 2.06-.94-2.06-.94L8.5 2.5l-.94 2.06-2.06.94zm10 10l.94 2.06.94-2.06 2.06-.94-2.06-.94-.94-2.06-.94 2.06-2.06.94z\"/><path d=\"M17.41 7.96l-1.37-1.37c-.4-.4-.92-.59-1.43-.59-.52 0-1.04.2-1.43.59L10.3 9.45l-7.72 7.72c-.78.78-.78 2.05 0 2.83L4 21.41c.39.39.9.59 1.41.59.51 0 1.02-.2 1.41-.59l7.78-7.78 2.81-2.81c.8-.78.8-2.07 0-2.86zM5.41 20L4 18.59l7.72-7.72 1.47 1.35L5.41 20z\"/>\n",
              "  </svg>\n",
              "      </button>\n",
              "      \n",
              "  <style>\n",
              "    .colab-df-container {\n",
              "      display:flex;\n",
              "      flex-wrap:wrap;\n",
              "      gap: 12px;\n",
              "    }\n",
              "\n",
              "    .colab-df-convert {\n",
              "      background-color: #E8F0FE;\n",
              "      border: none;\n",
              "      border-radius: 50%;\n",
              "      cursor: pointer;\n",
              "      display: none;\n",
              "      fill: #1967D2;\n",
              "      height: 32px;\n",
              "      padding: 0 0 0 0;\n",
              "      width: 32px;\n",
              "    }\n",
              "\n",
              "    .colab-df-convert:hover {\n",
              "      background-color: #E2EBFA;\n",
              "      box-shadow: 0px 1px 2px rgba(60, 64, 67, 0.3), 0px 1px 3px 1px rgba(60, 64, 67, 0.15);\n",
              "      fill: #174EA6;\n",
              "    }\n",
              "\n",
              "    [theme=dark] .colab-df-convert {\n",
              "      background-color: #3B4455;\n",
              "      fill: #D2E3FC;\n",
              "    }\n",
              "\n",
              "    [theme=dark] .colab-df-convert:hover {\n",
              "      background-color: #434B5C;\n",
              "      box-shadow: 0px 1px 3px 1px rgba(0, 0, 0, 0.15);\n",
              "      filter: drop-shadow(0px 1px 2px rgba(0, 0, 0, 0.3));\n",
              "      fill: #FFFFFF;\n",
              "    }\n",
              "  </style>\n",
              "\n",
              "      <script>\n",
              "        const buttonEl =\n",
              "          document.querySelector('#df-b19409b8-7a6a-4e3b-8de2-1f6be4a18606 button.colab-df-convert');\n",
              "        buttonEl.style.display =\n",
              "          google.colab.kernel.accessAllowed ? 'block' : 'none';\n",
              "\n",
              "        async function convertToInteractive(key) {\n",
              "          const element = document.querySelector('#df-b19409b8-7a6a-4e3b-8de2-1f6be4a18606');\n",
              "          const dataTable =\n",
              "            await google.colab.kernel.invokeFunction('convertToInteractive',\n",
              "                                                     [key], {});\n",
              "          if (!dataTable) return;\n",
              "\n",
              "          const docLinkHtml = 'Like what you see? Visit the ' +\n",
              "            '<a target=\"_blank\" href=https://colab.research.google.com/notebooks/data_table.ipynb>data table notebook</a>'\n",
              "            + ' to learn more about interactive tables.';\n",
              "          element.innerHTML = '';\n",
              "          dataTable['output_type'] = 'display_data';\n",
              "          await google.colab.output.renderOutput(dataTable, element);\n",
              "          const docLink = document.createElement('div');\n",
              "          docLink.innerHTML = docLinkHtml;\n",
              "          element.appendChild(docLink);\n",
              "        }\n",
              "      </script>\n",
              "    </div>\n",
              "  </div>\n",
              "  "
            ]
          },
          "metadata": {},
          "execution_count": 40
        }
      ]
    },
    {
      "cell_type": "code",
      "source": [
        "# separate the features (X) and targets (y)\n",
        "X = data.drop('species', axis=1).values\n",
        "y = data['species'].values\n",
        "# split the data into training and test sets\n",
        "X_train, X_test, y_train, y_test = train_test_split(X, y, test_size=0.2, random_state=123)"
      ],
      "metadata": {
        "id": "0kG-RYnYCWJw"
      },
      "execution_count": 41,
      "outputs": []
    },
    {
      "cell_type": "code",
      "source": [
        "# Define DBSCAN function\n",
        "def dbscan(X, eps, min_samples):\n",
        "    # Initialize labels to -1 (unassigned)\n",
        "    labels = np.full(X.shape[0], -1)\n",
        "    \n",
        "    # Initialize cluster index to 0\n",
        "    cluster_idx = 0\n",
        "    \n",
        "    # Initialize core points, border points, and noise points\n",
        "    core_points = np.zeros(X.shape[0], dtype=bool)\n",
        "    border_points = np.zeros(X.shape[0], dtype=bool)\n",
        "    noise_points = np.zeros(X.shape[0], dtype=bool)\n",
        "    \n",
        "    # Iterate over each point\n",
        "    for i in range(X.shape[0]):\n",
        "        # If the point has already been assigned to a cluster, skip it\n",
        "        if labels[i] != -1:\n",
        "            continue\n",
        "        \n",
        "\n",
        "\n",
        "        # Find all points within eps distance of the current point\n",
        "        neighbors = []\n",
        "        for j in range(X.shape[0]):\n",
        "            if np.linalg.norm(X[j] - X[i]) < eps:\n",
        "                neighbors.append(j)\n",
        "        \n",
        "\n",
        "        # If the number of neighbors is less than min_samples, assign the point as noise\n",
        "        if len(neighbors) < min_samples:\n",
        "            labels[i] = -2\n",
        "            noise_points[i] = True\n",
        "            continue\n",
        "        \n",
        "\n",
        "        # Assign the current point to the current cluster and mark it as a core point\n",
        "        labels[i] = cluster_idx\n",
        "        core_points[i] = True\n",
        "        \n",
        "\n",
        "        # Expand the cluster by finding all reachable points within eps distance of the current point\n",
        "        j = 0\n",
        "        while j < len(neighbors):\n",
        "            neighbor_idx = neighbors[j]\n",
        "            \n",
        "            if labels[neighbor_idx] == -2:\n",
        "                labels[neighbor_idx] = cluster_idx\n",
        "                noise_points[neighbor_idx] = True\n",
        "            \n",
        "            elif labels[neighbor_idx] == -1:\n",
        "                labels[neighbor_idx] = cluster_idx\n",
        "                new_neighbors = []\n",
        "                for k in range(X.shape[0]):\n",
        "                    if np.linalg.norm(X[k] - X[neighbor_idx]) < eps:\n",
        "                        new_neighbors.append(k)\n",
        "        \n",
        "                \n",
        "                if len(new_neighbors) >= min_samples:\n",
        "                    neighbors += new_neighbors\n",
        "                    if not core_points[neighbor_idx]:\n",
        "                        core_points[neighbor_idx] = True\n",
        "                        border_points[neighbor_idx] = False\n",
        "                else:\n",
        "                    border_points[neighbor_idx] = True\n",
        "            \n",
        "            j += 1\n",
        "        \n",
        "        # Increment the cluster index\n",
        "        cluster_idx += 1\n",
        "    \n",
        "    # Print the indices of core points, border points, and noise points\n",
        "    core_indices = np.where(core_points)[0]\n",
        "    border_indices = np.where(border_points)[0]\n",
        "    noise_indices = np.where(noise_points)[0]\n",
        "    print('Indices of core points:', core_indices)\n",
        "    print(\"*************************************************\")\n",
        "    print('Indices of border points:', border_indices)\n",
        "    print(\"*************************************************\")\n",
        "    print('Indices of noise points:', noise_indices)\n",
        "    print(\"*************************************************\")\n",
        "    n_core_points = np.sum(core_points)\n",
        "    n_border_points = np.sum(border_points)\n",
        "    n_noise_points = np.sum(noise_points)\n",
        "    print(\"*************************************************\")\n",
        "    print('Number of core points:', n_core_points)\n",
        "    print('Number of border points:', n_border_points)\n",
        "    print('Number of noise points:', n_noise_points)\n",
        "    \n",
        "    return labels, core_points, border_points, noise_points"
      ],
      "metadata": {
        "id": "iYPBY2rPCWQC"
      },
      "execution_count": 50,
      "outputs": []
    },
    {
      "cell_type": "code",
      "source": [
        "# Perform DBSCAN clustering\n",
        "eps = 0.7\n",
        "min_samples = 6\n",
        "labels, core_points, border_points, noise_points = dbscan(X, eps, min_samples)"
      ],
      "metadata": {
        "colab": {
          "base_uri": "https://localhost:8080/"
        },
        "id": "qQwIH1J3CWdi",
        "outputId": "dfc1a573-1936-41b1-dca3-5d5bbd4cddfb"
      },
      "execution_count": 51,
      "outputs": [
        {
          "output_type": "stream",
          "name": "stdout",
          "text": [
            "Indices of core points: [  0   1   2   3   4   5   6   7   8   9  10  11  12  13  14  15  16  17\n",
            "  18  19  20  21  22  23  24  25  26  27  28  29  30  31  32  33  34  35\n",
            "  36  37  38  39  40  42  43  44  45  46  47  48  49  50  51  52  53  54\n",
            "  55  56  58  59  61  62  63  64  65  66  67  69  70  71  72  73  74  75\n",
            "  76  77  78  79  80  81  82  83  84  85  86  87  88  89  90  91  92  94\n",
            "  95  96  97  99 100 101 102 103 104 105 107 108 110 111 112 113 114 115\n",
            " 116 119 120 121 123 124 125 126 127 128 130 132 133 136 137 138 139 140\n",
            " 141 142 143 144 145 146 147 148 149]\n",
            "*************************************************\n",
            "Indices of border points: [ 41  60  68  93 109 118 122 129 134 135]\n",
            "*************************************************\n",
            "Indices of noise points: [ 57  98 106 117 131]\n",
            "*************************************************\n",
            "*************************************************\n",
            "Number of core points: 135\n",
            "Number of border points: 10\n",
            "Number of noise points: 5\n"
          ]
        }
      ]
    },
    {
      "cell_type": "code",
      "source": [
        "# Plot the results\n",
        "plt.scatter(X[core_points, 0], X[core_points, 1], c=labels[core_points], marker='o')\n",
        "plt.scatter(X[border_points, 0], X[border_points, 1], c=labels[border_points], marker='s')\n",
        "plt.scatter(X[noise_points, 0], X[noise_points, 1], c='gray', marker='x')\n",
        "plt.xlabel('Sepal length')\n",
        "plt.ylabel('Sepal width')\n",
        "plt.legend(['Core points', 'Border points', 'Noise points'])\n",
        "plt.show()"
      ],
      "metadata": {
        "colab": {
          "base_uri": "https://localhost:8080/",
          "height": 452
        },
        "id": "ZMbD7FhuCWgT",
        "outputId": "621cfe41-480c-4f0c-c6ab-5f5c92d33407"
      },
      "execution_count": 44,
      "outputs": [
        {
          "output_type": "display_data",
          "data": {
            "text/plain": [
              "<Figure size 640x480 with 1 Axes>"
            ],
            "image/png": "[encoded data removed]"
          },
          "metadata": {}
        }
      ]
    },
    {
      "cell_type": "code",
      "source": [
        "# Calculate ARI\n",
        "Accuracy = adjusted_rand_score(y, labels)"
      ],
      "metadata": {
        "id": "9wL3Wx0pAqq9"
      },
      "execution_count": 45,
      "outputs": []
    },
    {
      "cell_type": "code",
      "source": [
        "print(\"Accuracy:\",Accuracy)"
      ],
      "metadata": {
        "colab": {
          "base_uri": "https://localhost:8080/"
        },
        "id": "eLsKGMXTn9is",
        "outputId": "7541c83d-754a-42f3-b4de-27ad38ebe843"
      },
      "execution_count": 46,
      "outputs": [
        {
          "output_type": "stream",
          "name": "stdout",
          "text": [
            "Accuracy: 0.5206185241703302\n"
          ]
        }
      ]
    },
    {
      "cell_type": "code",
      "source": [],
      "metadata": {
        "id": "R8FDNUE4oDcy"
      },
      "execution_count": 46,
      "outputs": []
    }
  ]
}